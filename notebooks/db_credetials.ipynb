{
 "cells": [
  {
   "cell_type": "markdown",
   "metadata": {},
   "source": [
    "## ChANGES\n",
    "1)database host variables (url)\n",
    "2)Credintials\n",
    "3)username\n",
    "4) database name\n",
    "5) if_exists assignment value\n",
    "6) index assignment value\n",
    "\n",
    "## Does not Change\n",
    "1)always in csv fomart\n",
    "2)create engine (connection)\n",
    "3) Calling database\n",
    "4) write into database table"
   ]
  },
  {
   "cell_type": "code",
   "execution_count": null,
   "metadata": {},
   "outputs": [],
   "source": [
    "import pandas as pd\n",
    "from sqlalchemy import create_engine \n",
    "\n",
    "data_string = \"fifa18_clean.csv\""
   ]
  },
  {
   "cell_type": "code",
   "execution_count": null,
   "metadata": {},
   "outputs": [],
   "source": [
    "# mysql config\n",
    "dict_config = dict(mysql_db_config = { \n",
    "                   \n",
    "                   'sqldb_route': 'mysql+pymysql', \n",
    "                   'username': 'root',\n",
    "                   'password': 'root1234',\n",
    "                   'host': 'localhost:3306',\n",
    "                   'database': 'mydatabase',\n",
    "                    },\n",
    "    \n",
    "data_frame = {\n",
    "              \n",
    "            'df' : data_string,\n",
    "            \n",
    "             },\n",
    "                  \n",
    "db_import = {\n",
    "    \n",
    "            'table_name': 'fifa_worldcup',\n",
    "            'if_exists' : 'append',\n",
    "            'index_column': False\n",
    "    \n",
    "})\n",
    "dict_config\n"
   ]
  },
  {
   "cell_type": "code",
   "execution_count": null,
   "metadata": {},
   "outputs": [],
   "source": [
    "import os\n",
    "import json\n",
    "\n",
    "CONFIG_PATH = '../configs'\n",
    "os.listdir(CONFIG_PATH)\n",
    "\n",
    "#write config to filesystem in config folder\n",
    "with open(os.path.join(CONFIG_PATH,'filename.json'),'w') as file_:\n",
    "    \n",
    "    json.dump(dict_config,file_)\n",
    "\n",
    "    \n",
    "#loads config\n",
    "with open(os.path.join(CONFIG_PATH,'filename.json'),'r') as file_:\n",
    "    \n",
    "    mysql_creds = json.load(file_)"
   ]
  },
  {
   "cell_type": "code",
   "execution_count": null,
   "metadata": {},
   "outputs": [],
   "source": [
    "mysql_creds"
   ]
  },
  {
   "cell_type": "code",
   "execution_count": null,
   "metadata": {},
   "outputs": [],
   "source": [
    "import os\n",
    "DATA_PATH = '../data'\n",
    "os.listdir(DATA_PATH)"
   ]
  },
  {
   "cell_type": "code",
   "execution_count": null,
   "metadata": {},
   "outputs": [],
   "source": [
    "# function to load dataset\n",
    "def load_dataset(filepath):\n",
    "    \"\"\"\n",
    "    \n",
    "        read the file with the help of Pandas and return that file given the filepath on config as a parameter\n",
    "        \n",
    "        args:\n",
    "            filepath: str filepath\n",
    "            \n",
    "            \n",
    "        return:\n",
    "            data: pd.DataFrame\n",
    "            \n",
    "        example:\n",
    "        >> import pandas as pd\n",
    "        >> load_dataset(filepath=path/to/file.csv)\n",
    "        pandas.core.frame.DataFrame\n",
    "            \n",
    "    \"\"\"\n",
    "    data_csv = pd.read_csv(filepath,chunksize=None, header = 0)\n",
    "    return data_csv\n",
    "\n",
    "df=load_dataset(filepath=os.path.join(DATA_PATH,dict_config['data_frame']['df']))\n",
    "# for data in df:\n",
    "    \n",
    "#     print(\"This is a chunk\",data.columns, len(data),len(data.columns))\n",
    "df.head()"
   ]
  },
  {
   "cell_type": "code",
   "execution_count": null,
   "metadata": {},
   "outputs": [],
   "source": [
    "type(df)"
   ]
  },
  {
   "cell_type": "code",
   "execution_count": null,
   "metadata": {},
   "outputs": [],
   "source": [
    "def create_engine_function(sqldb_route,username,password,host,database):\n",
    "    \"\"\"\n",
    "        creates sqlalchemy engine given a set of config parameters\n",
    "        \n",
    "        args:\n",
    "            sqldb_route: Fixed string defines the type of server route\n",
    "            user: string credential username\n",
    "            password: str credentials password\n",
    "            host: string host url\n",
    "            database: string database name\n",
    "            \n",
    "        return:\n",
    "            sqlalchemy_engine\n",
    "            \n",
    "            \n",
    "    example:\n",
    "    >> create_engine_function(sqldb_route=dict_config['mysql_db_config']['sqldb_route'],\n",
    "              user=dict_config['mysql_db_config']['username'],\n",
    "              password=dict_config['mysql_db_config']['password'],\n",
    "              host=dict_config['mysql_db_config']['host'],\n",
    "              database=dict_config['mysql_db_config']['database'])\n",
    "    \n",
    "    <function __main__.create_engine(dict_config)>\n",
    "            \n",
    "    \"\"\"\n",
    "    engine_url = '{0}://{1}:{2}@{3}/{4}'.format(sqldb_route,username,password,host,database)\n",
    "    engine = create_engine(engine_url)\n",
    "    return engine\n",
    "\n",
    "engine = create_engine_function(sqldb_route=dict_config['mysql_db_config']['sqldb_route'],\n",
    "              username=dict_config['mysql_db_config']['username'],\n",
    "              password=dict_config['mysql_db_config']['password'],\n",
    "              host=dict_config['mysql_db_config']['host'],\n",
    "              database=dict_config['mysql_db_config']['database'])\n",
    "engine\n",
    "\n"
   ]
  },
  {
   "cell_type": "code",
   "execution_count": null,
   "metadata": {},
   "outputs": [],
   "source": [
    "def write_to_do(df,table_name, engine, check, index_column):\n",
    "    \n",
    "    \"\"\"\n",
    "      \n",
    "     Write records stored in a DataFrame to a mySQL database.\n",
    "        \n",
    "        args:\n",
    "            df: pd.DataFrame \n",
    "            table_name : string\n",
    "            engine: sqlalchemy.engine.Engine\n",
    "            check: str {‘fail’, ‘replace’, ‘append’}, default ‘fail’\n",
    "            index_column: bool, default True\n",
    "            \n",
    "        raises:\n",
    "            ValueError\n",
    "              When the table already exists and if_exists is ‘fail’ (the default).\n",
    "            \n",
    "        example:\n",
    "        \n",
    "            write_to_do(df=df,table_name = dict_config['db_import']['table_name'],\n",
    "                        engine = engine,\n",
    "                        check = dict_config['db_import']['if_exists'],\n",
    "                        index_column = dict_config['db_import']['index_column'],\n",
    "                       )\n",
    "            <function __main__.write_to_do(df, table_name, engine, check, index_column)>\n",
    "    \n",
    "    \n",
    "    \"\"\"\n",
    "    with engine.connect() as conn, conn.begin():\n",
    "        df.to_sql(name = table_name, con = conn, if_exists = check,index=index_column, chunksize=100)\n",
    "\n",
    "write_to_do(df=df,\n",
    "        table_name = dict_config['db_import']['table_name'],\n",
    "            engine = engine,\n",
    "            check = dict_config['db_import']['if_exists'],\n",
    "            index_column = dict_config['db_import']['index_column'],\n",
    "           )\n",
    "\n",
    "write_to_do"
   ]
  },
  {
   "cell_type": "markdown",
   "metadata": {},
   "source": [
    "# copy all methods here:\n"
   ]
  },
  {
   "cell_type": "code",
   "execution_count": null,
   "metadata": {},
   "outputs": [],
   "source": [
    "import pandas as pd\n",
    "from sqlalchemy import create_engine \n",
    "\n",
    "\n",
    "## load credentials\n",
    "#json load\n",
    "import os\n",
    "import json\n",
    "\n",
    "CONFIG_PATH = '../configs'\n",
    "DATA_PATH = '../data'\n",
    "\n",
    "#loads config\n",
    "with open(os.path.join(CONFIG_PATH,'filename.json'),'r') as file_:\n",
    "\n",
    "    mysql_creds = json.load(file_)\n",
    "\n",
    "\n",
    "#all methods here:\n",
    "\n",
    "# function to load dataset\n",
    "def load_dataset(filepath):\n",
    "    \"\"\"\n",
    "    \n",
    "        read the file with the help of Pandas and return that file given the filepath on config as a parameter\n",
    "        \n",
    "        args:\n",
    "            filepath: str filepath\n",
    "            \n",
    "            \n",
    "        return:\n",
    "            data: pd.DataFrame\n",
    "            \n",
    "        example:\n",
    "        >> import pandas as pd\n",
    "        >> load_dataset(filepath=path/to/file.csv)\n",
    "        pandas.core.frame.DataFrame\n",
    "            \n",
    "    \"\"\"\n",
    "    data_csv = pd.read_csv(filepath,chunksize=None, header = 0)\n",
    "    return data_csv\n",
    "\n",
    "# function to create an engine\n",
    "def create_engine_function(sqldb_route,username,password,host,database):\n",
    "    \"\"\"\n",
    "        creates sqlalchemy engine given a set of config parameters\n",
    "        \n",
    "        args:\n",
    "            sqldb_route: Fixed string defines the type of server route\n",
    "            user: string credential username\n",
    "            password: str credentials password\n",
    "            host: string host url\n",
    "            database: string database name\n",
    "            \n",
    "        return:\n",
    "            sqlalchemy_engine\n",
    "            \n",
    "            \n",
    "    example:\n",
    "    >> create_engine_function(sqldb_route=dict_config['mysql_db_config']['sqldb_route'],\n",
    "              user=dict_config['mysql_db_config']['username'],\n",
    "              password=dict_config['mysql_db_config']['password'],\n",
    "              host=dict_config['mysql_db_config']['host'],\n",
    "              database=dict_config['mysql_db_config']['database'])\n",
    "    \n",
    "    <function __main__.create_engine(dict_config)>\n",
    "            \n",
    "    \"\"\"\n",
    "    engine_url = '{0}://{1}:{2}@{3}/{4}'.format(sqldb_route,username,password,host,database)\n",
    "    engine = create_engine(engine_url)\n",
    "    return engine\n",
    "\n",
    "# function to write data into database\n",
    "def write_to_do(df,table_name, engine, check, index_column):\n",
    "    \"\"\"\n",
    "      \n",
    "     Write records stored in a DataFrame to a mySQL database.\n",
    "        \n",
    "        args:\n",
    "            df: pd.DataFrame \n",
    "            table_name : string\n",
    "            engine: sqlalchemy.engine.Engine\n",
    "            check: str {‘fail’, ‘replace’, ‘append’}, default ‘fail’\n",
    "            index_column: bool, default True\n",
    "            \n",
    "        raises:\n",
    "            ValueError\n",
    "              When the table already exists and if_exists is ‘fail’ (the default).\n",
    "            \n",
    "        example:\n",
    "        \n",
    "            write_to_do(df=df,table_name = dict_config['db_import']['table_name'],\n",
    "                        engine = engine,\n",
    "                        check = dict_config['db_import']['if_exists'],\n",
    "                        index_column = dict_config['db_import']['index_column'],\n",
    "                       )\n",
    "            <function __main__.write_to_do(df, table_name, engine, check, index_column)>\n",
    "    \n",
    "    \n",
    "    \"\"\"\n",
    "    with engine.connect() as conn, conn.begin():\n",
    "        df.to_sql(name = table_name, con = conn, if_exists = check,index=index_column, chunksize=100)\n",
    "\n",
    "def database_writter():\n",
    "    print(\"Running main\")\n",
    "    ## create engine\n",
    "    engine=create_engine_function(sqldb_route=mysql_creds['mysql_db_config']['sqldb_route'],\n",
    "                  username=mysql_creds['mysql_db_config']['username'],\n",
    "                  password=mysql_creds['mysql_db_config']['password'],\n",
    "                  host=mysql_creds['mysql_db_config']['host'],\n",
    "                  database=mysql_creds['mysql_db_config']['database'])\n",
    "\n",
    "    ##load data\n",
    "    df = load_dataset(filepath=os.path.join(DATA_PATH,str(mysql_creds['data_frame']['df'])))\n",
    "\n",
    "    ##write to sql db\n",
    "    write_to_do(df= df,\n",
    "            table_name = mysql_creds['db_import']['table_name'],\n",
    "                engine = engine,\n",
    "                check = mysql_creds['db_import']['if_exists'],\n",
    "                index_column = mysql_creds['db_import']['index_column'],\n",
    "               )\n",
    "        \n",
    "if __name__ == \"__main__\":\n",
    "\n",
    "    print(\"I am here\")\n",
    "    \n",
    "    database_writter()\n",
    "    \n",
    "    print(\"All done\")"
   ]
  },
  {
   "cell_type": "markdown",
   "metadata": {},
   "source": [
    "# importing created package"
   ]
  },
  {
   "cell_type": "code",
   "execution_count": 1,
   "metadata": {},
   "outputs": [],
   "source": [
    "import sys\n",
    "sys.path.append('../scripts') ## don't include database_writer.py\n",
    "import database_writter"
   ]
  },
  {
   "cell_type": "code",
   "execution_count": 8,
   "metadata": {},
   "outputs": [
    {
     "name": "stdout",
     "output_type": "stream",
     "text": [
      "Running main\n"
     ]
    }
   ],
   "source": [
    "database_writter.database_writter()"
   ]
  },
  {
   "cell_type": "markdown",
   "metadata": {},
   "source": [
    "# End of work flow"
   ]
  },
  {
   "cell_type": "code",
   "execution_count": 7,
   "metadata": {},
   "outputs": [
    {
     "data": {
      "text/plain": [
       "['.DS_Store',\n",
       " '__init__.py',\n",
       " '__pycache__',\n",
       " 'database_writter.py',\n",
       " '.ipynb_checkpoints']"
      ]
     },
     "execution_count": 7,
     "metadata": {},
     "output_type": "execute_result"
    }
   ],
   "source": [
    "import os\n",
    "os.listdir('../scripts')"
   ]
  }
 ],
 "metadata": {
  "kernelspec": {
   "display_name": "Python 3",
   "language": "python",
   "name": "python3"
  },
  "language_info": {
   "codemirror_mode": {
    "name": "ipython",
    "version": 3
   },
   "file_extension": ".py",
   "mimetype": "text/x-python",
   "name": "python",
   "nbconvert_exporter": "python",
   "pygments_lexer": "ipython3",
   "version": "3.7.3"
  }
 },
 "nbformat": 4,
 "nbformat_minor": 2
}
